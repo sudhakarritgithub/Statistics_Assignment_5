{
 "cells": [
  {
   "cell_type": "raw",
   "id": "81c39145-ed7c-4bd2-995d-9b4debd5fa07",
   "metadata": {},
   "source": [
    "                                                                                         STATISTICS ASSIGNMENT - 5 "
   ]
  },
  {
   "cell_type": "raw",
   "id": "2a3b12e8-c1fc-49b1-9c27-17f937f5ec33",
   "metadata": {},
   "source": []
  },
  {
   "cell_type": "raw",
   "id": "f41ab0c4-765d-4e7d-8e72-a8efd6887398",
   "metadata": {},
   "source": []
  },
  {
   "cell_type": "raw",
   "id": "b12d68b1-dbbb-44df-9f66-d8321071de5b",
   "metadata": {},
   "source": [
    "Ques.1  What is Estimation Statistics? Explain point estimate and interval estimate."
   ]
  },
  {
   "cell_type": "raw",
   "id": "29936d5f-b0ce-4806-8243-d94b542db55b",
   "metadata": {},
   "source": [
    "Estimation statistics involves using sample data to estimate population parameters. Here's an explanation of point estimate and interval estimate, which are key concepts in estimation statistics:\n",
    "\n",
    "Point Estimate: A point estimate is a single value that is used to approximate a population parameter. It's derived from sample data and is intended to provide the best estimate of an unknown population                  parameter, such as a population mean or proportion.\n",
    "Example:\n",
    "Population Parameter: The average height of all adults in a country.\n",
    "Sample Data: Heights of 100 adults randomly selected from the population.\n",
    "Point Estimate: The sample mean height of these 100 adults (e.g., 170 cm) serves as a point estimate for the population mean height.\n",
    "Point estimates are straightforward and easy to interpret but don't convey the uncertainty or variability inherent in estimating a population parameter from a sample.\n",
    "\n",
    "Interval Estimate: An interval estimate provides a range of plausible values for a population parameter. Unlike a point estimate, which gives only one value, an interval estimate includes both a point                        estimate and an indication of the uncertainty associated with that estimate.\n",
    "Example:\n",
    "Population Parameter: The average income of households in a city.\n",
    "Sample Data: Incomes of 200 households randomly selected from the city.\n",
    "Interval Estimate: A 95% confidence interval for the population mean income, such as $40,000 to $50,000, means we are 95% confident that the true population mean income lies within this range.\n",
    "Interval estimates are more informative because they give a sense of how precise our estimate is and allow us to quantify the uncertainty surrounding our point estimate. The width of the interval reflects the variability in the data and the sample size used for estimation."
   ]
  },
  {
   "cell_type": "raw",
   "id": "790cb743-043c-4527-8b04-11d2a1b09d39",
   "metadata": {},
   "source": []
  },
  {
   "cell_type": "raw",
   "id": "8abb84ca-74c7-463c-a160-bf9bc46a0d2d",
   "metadata": {},
   "source": [
    "Ques.2 Write a Python function to estimate the population mean using a sample mean and standard deviation."
   ]
  },
  {
   "cell_type": "code",
   "execution_count": null,
   "id": "e4ec4d32-bfac-421e-b094-90748ebaf935",
   "metadata": {},
   "outputs": [],
   "source": [
    "import math\n",
    "\n",
    "def estimate_population_mean(sample_mean, sample_std, sample_size):\n",
    "    # Assuming sample_size is the size of the sample used to calculate sample_mean and sample_std\n",
    "    # We can use the t-distribution to calculate a confidence interval for the population mean.\n",
    "    # For simplicity, let's calculate a 95% confidence interval, which corresponds to a t-score of 1.96.\n",
    "    \n",
    "    # Calculate the margin of error\n",
    "    margin_of_error = 1.96 * (sample_std / math.sqrt(sample_size))\n",
    "    \n",
    "    # Calculate the lower and upper bounds of the confidence interval\n",
    "    lower_bound = sample_mean - margin_of_error\n",
    "    upper_bound = sample_mean + margin_of_error\n",
    "    \n",
    "    # Return the estimated population mean and the confidence interval\n",
    "    return sample_mean, (lower_bound, upper_bound)\n",
    "\n",
    "# Example usage:\n",
    "sample_mean = 50.0  # Sample mean\n",
    "sample_std = 10.0   # Sample standard deviation\n",
    "sample_size = 100   # Sample size\n",
    "\n",
    "population_mean_estimate, confidence_interval = estimate_population_mean(sample_mean, sample_std, sample_size)\n",
    "\n",
    "print(f\"Estimated population mean: {population_mean_estimate}\")\n",
    "print(f\"95% Confidence Interval: ({confidence_interval[0]}, {confidence_interval[1]})\")\n"
   ]
  },
  {
   "cell_type": "raw",
   "id": "6204fd24-fcf2-4d18-a83c-29a776611b1d",
   "metadata": {},
   "source": []
  },
  {
   "cell_type": "raw",
   "id": "aa3dc9a6-31d6-46fc-b605-d6a403059d86",
   "metadata": {},
   "source": [
    "Ques.3 What is Hypothesis testing? Why is it used? State the importance of Hypothesis testing."
   ]
  },
  {
   "cell_type": "raw",
   "id": "2bac61a9-263e-4fd3-9013-679318f9c7c4",
   "metadata": {},
   "source": [
    "Hypothesis testing is a statistical method used to make inferences or decisions about a population based on sample data. It involves setting up a hypothesis (a statement or claim about a population parameter) and using sample data to determine whether the hypothesis is likely to be true or not.\n",
    "\n",
    "Importance of Hypothesis Testing:\n",
    "\n",
    "Formal Decision Making: It provides a structured framework for making decisions based on data rather than intuition or anecdotal evidence.\n",
    "\n",
    "Assessing Claims: It allows researchers to assess the validity of claims or hypotheses about a population based on sample data. This helps in drawing meaningful conclusions and making informed decisions.\n",
    "\n",
    "Quantifying Uncertainty: By calculating p-values and confidence intervals, hypothesis testing quantifies the uncertainty associated with the conclusions drawn from the sample data.\n",
    "\n",
    "Supporting Scientific Research: In scientific research, hypothesis testing helps validate theories and hypotheses, contributing to the accumulation of knowledge in various fields.\n",
    "\n",
    "Comparing Alternatives: It facilitates comparisons between competing theories or treatments by providing a method to determine which hypothesis is more supported by the evidence."
   ]
  },
  {
   "cell_type": "raw",
   "id": "2c168ba5-63d9-483a-b533-9d585adb6cfd",
   "metadata": {},
   "source": []
  },
  {
   "cell_type": "raw",
   "id": "8d21fd42-78e7-4163-9731-f80ff8752924",
   "metadata": {},
   "source": [
    "Ques.4  Create a hypothesis that states whether the average weight of male college students is greater than the average weight of female college students"
   ]
  },
  {
   "cell_type": "raw",
   "id": "36311c96-a9bd-4376-81c6-a4d9b5725a06",
   "metadata": {},
   "source": [
    "Null Hypothesis (H₀):\n",
    "The null hypothesis states that there is no significant difference between the average weight of male college students (μ male​ ) and the average weight of female college students (𝜇 female​):𝐻0:𝜇 male ≤ 𝜇 female\n",
    "\n",
    "Alternative Hypothesis (H₁ or Hₐ):\n",
    "The alternative hypothesis suggests that the average weight of male college students is greater than the average weight of female college students:𝐻1:𝜇 male>𝜇 female\n",
    "\n",
    "Explanation:\n",
    "Null Hypothesis (H₀): This hypothesis assumes that there is no difference or that females might on average weigh more than or equal to male students.\n",
    "Alternative Hypothesis (H₁ or Hₐ): This hypothesis states that the average weight of male college students exceeds that of female college students."
   ]
  },
  {
   "cell_type": "raw",
   "id": "109c61f3-da33-4bb2-8ea8-803725cb5278",
   "metadata": {},
   "source": []
  },
  {
   "cell_type": "raw",
   "id": "781a7de9-9637-41e3-a38c-3b76a931e243",
   "metadata": {},
   "source": [
    "Ques.5 Write a Python script to conduct a hypothesis test on the difference between two population means, given a sample from each population"
   ]
  },
  {
   "cell_type": "code",
   "execution_count": 1,
   "id": "0f8ba390-7ae7-4f7d-b4eb-47f62e67ba14",
   "metadata": {},
   "outputs": [
    {
     "name": "stdout",
     "output_type": "stream",
     "text": [
      "Sample 1 mean: 68.11853104148962\n",
      "Sample 2 mean: 63.54605035652068\n",
      "T-statistic: 1.7456025112852083\n",
      "P-value: 0.08617561619553411\n",
      "Fail to reject the null hypothesis at significance level α=0.05\n"
     ]
    }
   ],
   "source": [
    "import numpy as np\n",
    "from scipy import stats\n",
    "\n",
    "def hypothesis_test_two_means(sample1, sample2, alpha=0.05):\n",
    "    # Perform independent samples t-test\n",
    "    t_statistic, p_value = stats.ttest_ind(sample1, sample2)\n",
    "    \n",
    "    # Print the results\n",
    "    print(f\"Sample 1 mean: {np.mean(sample1)}\")\n",
    "    print(f\"Sample 2 mean: {np.mean(sample2)}\")\n",
    "    print(f\"T-statistic: {t_statistic}\")\n",
    "    print(f\"P-value: {p_value}\")\n",
    "    \n",
    "    # Compare p-value with alpha\n",
    "    if p_value < alpha:\n",
    "        print(f\"Reject the null hypothesis at significance level α={alpha}\")\n",
    "    else:\n",
    "        print(f\"Fail to reject the null hypothesis at significance level α={alpha}\")\n",
    "\n",
    "# Example usage:\n",
    "if __name__ == \"__main__\":\n",
    "    # Generate example data (replace with your actual samples)\n",
    "    np.random.seed(42)  # For reproducibility\n",
    "    sample1 = np.random.normal(loc=70, scale=10, size=30)  # Sample 1 (mean=70, std=10)\n",
    "    sample2 = np.random.normal(loc=65, scale=12, size=30)  # Sample 2 (mean=65, std=12)\n",
    "    \n",
    "    # Perform hypothesis test\n",
    "    hypothesis_test_two_means(sample1, sample2)\n"
   ]
  },
  {
   "cell_type": "raw",
   "id": "93ba5e7c-c381-404e-b9a7-39f61a12cbb0",
   "metadata": {},
   "source": []
  },
  {
   "cell_type": "raw",
   "id": "c717dfe8-ced4-4dd6-80c4-0e0824fda7f2",
   "metadata": {},
   "source": [
    "Ques.6 What is a null and alternative hypothesis? Give some examples."
   ]
  },
  {
   "cell_type": "raw",
   "id": "7eec730d-e10f-4a6d-9895-c2734361724a",
   "metadata": {},
   "source": [
    "Null Hypothesis (H₀):\n",
    "The null hypothesis is a statement or assumption that suggests there is no significant difference, effect, or relationship between variables or populations being studied. It represents the default position or belief that there is no change or no effect.\n",
    "\n",
    "Alternative Hypothesis (H₁ or Hₐ):\n",
    "The alternative hypothesis contrasts with the null hypothesis. It represents the opposite of the null hypothesis and typically suggests that there is an effect, difference, or relationship in the population that is being studied.\n",
    "\n",
    "Importance and Application:\n",
    "\n",
    "Statistical Testing: Hypothesis testing is used to decide whether to accept or reject the null hypothesis based on sample data and statistical analyses.\n",
    "\n",
    "Scientific Research: It is crucial in scientific research to evaluate theories, relationships, and the effectiveness of interventions or treatments.\n",
    "\n",
    "Business Decision Making: Helps in making informed decisions based on data analysis and testing hypotheses about market trends, consumer preferences, etc.\n",
    "\n",
    "In summary, the null hypothesis states no effect or no difference, while the alternative hypothesis suggests there is an effect or difference. These hypotheses form the basis for statistical testing and are essential in drawing conclusions from data in a structured and objective manner."
   ]
  },
  {
   "cell_type": "raw",
   "id": "e16a508f-d184-48cf-ad28-ddcdc60e8b13",
   "metadata": {},
   "source": []
  },
  {
   "cell_type": "raw",
   "id": "6d968a0c-23cc-48f2-b796-65749200a920",
   "metadata": {},
   "source": [
    "Ques.7 Write down the steps involved in hypothesis testing."
   ]
  },
  {
   "cell_type": "raw",
   "id": "49a46c86-e9dc-416d-9069-7d606d8fbe80",
   "metadata": {},
   "source": [
    "Hypothesis testing is a systematic process used in statistics to make decisions about the validity of hypotheses concerning a population parameter. Here are the general steps involved in hypothesis testing:\n",
    "\n",
    "1. State the Hypotheses:\n",
    "Null Hypothesis (H₀): This is the default assumption, often stating no effect, no difference, or no change in the population parameter.\n",
    "Alternative Hypothesis (H₁ or Hₐ): This contrasts with the null hypothesis and typically suggests there is an effect, difference, or change in the population parameter.\n",
    "\n",
    "2. Choose the Significance Level (α):\n",
    "The significance level, denoted as α (alpha), is the probability threshold used to determine whether to reject the null hypothesis. Common values include 0.05 (5%) and 0.01 (1%).\n",
    "\n",
    "3. Select the Appropriate Test:\n",
    "Choose a statistical test that matches the type of data and hypotheses being tested. Common tests include t-tests, z-tests, chi-square tests, ANOVA, etc.\n",
    "\n",
    "4. Determine the Test Statistic:\n",
    "Compute the test statistic based on the chosen test and the sample data. The test statistic measures how far the sample statistic is from the hypothesized value under the null hypothesis.\n",
    "\n",
    "5. Compute the P-value:\n",
    "The p-value is the probability of obtaining a test statistic as extreme as or more extreme than the one observed in the sample data, assuming the null hypothesis is true. It indicates the strength of evidence against the null hypothesis.\n",
    "\n",
    "6. Make a Decision:\n",
    "Compare the p-value to the significance level (α):\n",
    "If the p-value is less than α (p < α), reject the null hypothesis.\n",
    "If the p-value is greater than or equal to α (p ≥ α), fail to reject the null hypothesis.\n",
    "\n",
    "7. Draw Conclusions:\n",
    "Based on the decision from Step 6, draw conclusions about the population parameter:\n",
    "If the null hypothesis is rejected, conclude that there is sufficient evidence to support the alternative hypothesis.\n",
    "If the null hypothesis is not rejected, conclude that there is not enough evidence to support the alternative hypothesis.\n",
    "\n",
    "8. Interpret Results:\n",
    "Interpret the findings in the context of the problem being studied. Consider practical significance as well as statistical significance."
   ]
  },
  {
   "cell_type": "raw",
   "id": "4d7aebb8-cfbf-47c4-b694-6d4db9bf187d",
   "metadata": {},
   "source": []
  },
  {
   "cell_type": "raw",
   "id": "33a2b47e-b9de-41ab-8a8d-93b772c7e05f",
   "metadata": {},
   "source": [
    "Ques.8 Define p-value and explain its significance in hypothesis testing."
   ]
  },
  {
   "cell_type": "raw",
   "id": "62caa278-fe8e-4533-9ab2-574be60f71ac",
   "metadata": {},
   "source": [
    "Definition of p-value: The p-value, or probability value, is a quantitative measure that helps determine the strength of evidence against the null hypothesis in hypothesis testing. It indicates the                              likelihood of observing the test statistic (or a more extreme value) if the null hypothesis is true.\n",
    "\n",
    "Significance of p-value in Hypothesis Testing:\n",
    "\n",
    "Quantifying Evidence Against the Null Hypothesis:\n",
    "A small p-value (typically less than the chosen significance level α) suggests strong evidence against the null hypothesis. It indicates that the observed data are unlikely to have occurred under the assumption that the null hypothesis is true.Conversely, a large p-value (greater than α) indicates weak evidence against the null hypothesis. It suggests that the observed data are plausible under the assumption that the null hypothesis is true.\n",
    "\n",
    "Decision Making:\n",
    "In hypothesis testing, the decision to reject or fail to reject the null hypothesis is based on comparing the p-value to the significance level (α).\n",
    "If the p-value is less than α (commonly 0.05), the null hypothesis is rejected, and the alternative hypothesis is supported. This means the observed results are statistically significant.\n",
    "If the p-value is greater than or equal to α, the null hypothesis is not rejected, indicating that there is not enough evidence to support the alternative hypothesis. This does not necessarily mean the null hypothesis is true; it simply means the data do not provide sufficient evidence to reject it.\n",
    "\n",
    "Interpretation in Context:\n",
    "The p-value should be interpreted in the context of the specific hypothesis test and the significance level chosen.\n",
    "Lower p-values indicate stronger evidence against the null hypothesis and are typically considered more convincing in scientific research and decision-making.\n",
    "\n",
    "Relative Measure of Strength:\n",
    "The p-value is a relative measure of strength rather than an absolute probability.\n",
    "It reflects how extreme the observed data are relative to what would be expected under the null hypothesis, helping researchers assess the robustness of their conclusions."
   ]
  },
  {
   "cell_type": "raw",
   "id": "d86a860d-b469-414f-bba1-56f9334b25bd",
   "metadata": {},
   "source": []
  },
  {
   "cell_type": "raw",
   "id": "7d1bd39e-fc12-4afd-981a-46c6b9fac035",
   "metadata": {},
   "source": [
    "Ques.9 Generate a Student's t-distribution plot using Python's matplotlib library, with the degrees of freedom parameter set to 10"
   ]
  },
  {
   "cell_type": "code",
   "execution_count": 2,
   "id": "fb6cc8c2-7249-4346-a392-cd84da860b15",
   "metadata": {},
   "outputs": [
    {
     "data": {
      "image/png": "[encoded data removed]",
      "text/plain": [
       "<Figure size 800x600 with 1 Axes>"
      ]
     },
     "metadata": {},
     "output_type": "display_data"
    }
   ],
   "source": [
    "import numpy as np\n",
    "import matplotlib.pyplot as plt\n",
    "from scipy.stats import t\n",
    "\n",
    "# Define the degrees of freedom\n",
    "df = 10\n",
    "\n",
    "# Generate x values for plotting\n",
    "x = np.linspace(t.ppf(0.001, df), t.ppf(0.999, df), 1000)\n",
    "\n",
    "# Calculate the probability density function (PDF) values for the t-distribution\n",
    "pdf = t.pdf(x, df)\n",
    "\n",
    "# Plot the PDF\n",
    "plt.figure(figsize=(8, 6))\n",
    "plt.plot(x, pdf, label=f't-distribution (df={df})', color='blue')\n",
    "plt.title(f'Student\\'s t-distribution with {df} degrees of freedom')\n",
    "plt.xlabel('x')\n",
    "plt.ylabel('Probability Density Function (PDF)')\n",
    "plt.legend()\n",
    "plt.grid(True)\n",
    "plt.show()\n"
   ]
  },
  {
   "cell_type": "raw",
   "id": "7054a335-82e8-4f59-b9e9-e6f1f2dd5631",
   "metadata": {},
   "source": []
  },
  {
   "cell_type": "raw",
   "id": "641ff763-227b-4177-a999-43e94185c899",
   "metadata": {},
   "source": [
    "Ques.10  Write a Python program to calculate the two-sample t-test for independent samples, given two random samples of equal size and a null hypothesis that the population means are equal."
   ]
  },
  {
   "cell_type": "code",
   "execution_count": 3,
   "id": "7e3d747b-b0a4-4333-ad3c-f5e66149f579",
   "metadata": {},
   "outputs": [
    {
     "name": "stdout",
     "output_type": "stream",
     "text": [
      "Sample 1 mean: 68.11853104148962\n",
      "Sample 2 mean: 63.54605035652068\n",
      "T-statistic: 1.7456025112852083\n",
      "P-value: 0.08617561619553411\n",
      "Fail to reject the null hypothesis at significance level α=0.05\n"
     ]
    }
   ],
   "source": [
    "import numpy as np\n",
    "from scipy import stats\n",
    "\n",
    "def two_sample_ttest(sample1, sample2, alpha=0.05):\n",
    "    # Perform two-sample t-test\n",
    "    t_statistic, p_value = stats.ttest_ind(sample1, sample2)\n",
    "    \n",
    "    # Print the results\n",
    "    print(f\"Sample 1 mean: {np.mean(sample1)}\")\n",
    "    print(f\"Sample 2 mean: {np.mean(sample2)}\")\n",
    "    print(f\"T-statistic: {t_statistic}\")\n",
    "    print(f\"P-value: {p_value}\")\n",
    "    \n",
    "    # Compare p-value with alpha\n",
    "    if p_value < alpha:\n",
    "        print(f\"Reject the null hypothesis at significance level α={alpha}\")\n",
    "    else:\n",
    "        print(f\"Fail to reject the null hypothesis at significance level α={alpha}\")\n",
    "\n",
    "# Example usage:\n",
    "if __name__ == \"__main__\":\n",
    "    # Generate example data (replace with your actual samples)\n",
    "    np.random.seed(42)  # For reproducibility\n",
    "    sample_size = 30\n",
    "    sample1 = np.random.normal(loc=70, scale=10, size=sample_size)  # Sample 1 (mean=70, std=10)\n",
    "    sample2 = np.random.normal(loc=65, scale=12, size=sample_size)  # Sample 2 (mean=65, std=12)\n",
    "    \n",
    "    # Perform two-sample t-test\n",
    "    two_sample_ttest(sample1, sample2)\n"
   ]
  },
  {
   "cell_type": "raw",
   "id": "bd485440-2f4d-4233-92e6-b32d22ca446a",
   "metadata": {},
   "source": []
  },
  {
   "cell_type": "raw",
   "id": "bdc35c12-e08d-4c14-a3fe-a94e3674f24f",
   "metadata": {},
   "source": [
    "Ques.11 What is Student’s t distribution? When to use the t-Distribution"
   ]
  },
  {
   "cell_type": "raw",
   "id": "86582d33-9724-4345-8169-7fd846a13580",
   "metadata": {},
   "source": [
    "Student's t-distribution, often simply referred to as the t-distribution, is a probability distribution that arises in statistics when estimating the mean of a normally distributed population in situations where the sample size is small and/or the population standard deviation is unknown. It is named after William Sealy Gosset, who first introduced it under the pseudonym \"Student\" in 1908.\n",
    "\n",
    "When to Use the t-Distribution:\n",
    "\n",
    "Small Sample Sizes: When the sample size is small (typically less than 30) and the population standard deviation is unknown, the t-distribution is used to account for the increased uncertainty due to the                     smaller sample size.\n",
    "\n",
    "Population Standard Deviation Unknown: In situations where the population standard deviation (σ) is not known and must be estimated from the sample standard deviation (s), the t-distribution provides a                                          more accurate way to estimate the variability in the sample mean.\n",
    "\n",
    "Estimating Confidence Intervals: When constructing confidence intervals for the population mean based on sample data, the t-distribution is used to determine the critical values that correspond to the                                      desired confidence level.\n",
    "\n",
    "Hypothesis Testing: Particularly in cases involving small sample sizes, the t-distribution is used in hypothesis testing to assess whether there is a significant difference between sample means or to test                     other hypotheses about population parameters."
   ]
  },
  {
   "cell_type": "raw",
   "id": "726c54c4-7983-4f9b-a906-8c4fbf966323",
   "metadata": {},
   "source": []
  },
  {
   "cell_type": "raw",
   "id": "8bb27741-7112-48d5-b671-afe2261c0517",
   "metadata": {},
   "source": [
    "Ques.12 What is t-statistic? State the formula for t-statistic."
   ]
  },
  {
   "cell_type": "raw",
   "id": "ab5089d5-f90b-4033-8bdd-fc20a3fb75e3",
   "metadata": {},
   "source": [
    "The t-statistic is a measure used in hypothesis testing to determine if the means of two groups are significantly different from each other, or if a sample mean is significantly different from a population mean. It is based on Student's t-distribution and is used when the population standard deviation σ) is unknown and estimated from the sample standard deviation (s).\n",
    "\n",
    "Interpretation:\n",
    "Magnitude of t-statistic: A larger absolute value of the t-statistic indicates a greater difference between the sample mean and the population mean (in a one-sample test) or between the means of two                                 groups (in a two-sample test), relative to the variability within the samples.\n",
    "Comparison to Critical Values: In hypothesis testing, the t-statistic is compared to critical values from the t-distribution (based on degrees of freedom and significance level) to determine whether to                                  reject the null hypothesis.\n",
    "The t-statistic is a fundamental tool in statistical analysis, providing a standardized way to quantify the difference between sample statistics and hypothesized population parameters, taking into account the uncertainty due to sample variability."
   ]
  },
  {
   "cell_type": "raw",
   "id": "62597124-1fa9-4ded-b241-fdc7b60d9479",
   "metadata": {},
   "source": []
  },
  {
   "cell_type": "raw",
   "id": "4019a274-7a4e-4f4e-9d70-3314e45ed697",
   "metadata": {},
   "source": [
    "Ques.13  A coffee shop owner wants to estimate the average daily revenue for their shop. They take a random sample of 50 days and find the sample mean revenue to be $500 with a standard deviation of $50. \n",
    "        Estimate the population mean revenue with a 95% confidence interval"
   ]
  },
  {
   "cell_type": "raw",
   "id": "98c4b4d0-db69-4c75-a9bc-fc669c537b47",
   "metadata": {},
   "source": [
    "To estimate the population mean revenue with a 95% confidence interval based on the sample provided, we can use the formula for the confidence interval for the mean when the population standard deviation is unknown. Here’s how we can calculate it:\n",
    "\n",
    "Given:\n",
    "Sample size (n) = 50\n",
    "Sample mean (xˉ) = $500\n",
    "Sample standard deviation (s) = $50\n",
    "Confidence level = 95%\n",
    "\n",
    "Steps to Calculate the Confidence Interval:\n",
    "\n",
    "Find the critical value (z-score):\n",
    "Since the sample size is large (n ≥ 30), we use the standard normal distribution (z-distribution) for the critical value at a 95% confidence level.\n",
    "The critical value (z*) corresponding to a 95% confidence level is approximately 1.96. This value is obtained from standard normal distribution tables or using statistical software.\n",
    "\n",
    "Calculate the confidence interval:\n",
    "\n",
    "The confidence interval for the population mean (𝜇) is calculated as:\n",
    "Confidence Interval=𝑥ˉ±Margin of Error\n",
    "Confidence Interval=500±13.85\n",
    "Confidence Interval=(486.15,513.85)\n",
    "\n",
    "Interpretation:\n",
    "The 95% confidence interval suggests that we are 95% confident that the true population mean revenue of the coffee shop falls between $486.15 and $513.85 per day, based on the sample data provided.\n",
    "This interval provides a range within which we can reasonably estimate the average daily revenue of the coffee shop, considering the variability in daily revenue observed in the sample."
   ]
  },
  {
   "cell_type": "raw",
   "id": "fb0100de-b669-40da-866b-27070e90099b",
   "metadata": {},
   "source": []
  },
  {
   "cell_type": "raw",
   "id": "53e97513-1017-4934-9ed4-d13bf7e69d74",
   "metadata": {},
   "source": [
    "Ques.14  A researcher hypothesizes that a new drug will decrease blood pressure by 10 mmHg. They conduct a clinical trial with 100 patients and find that the sample mean decrease in blood pressure is 8            mmHg with a standard deviation of 3 mmHg. Test the hypothesis with a significance level of 0.05."
   ]
  },
  {
   "cell_type": "raw",
   "id": "5bd9aef2-7dc8-472e-aecf-66f69a8b46da",
   "metadata": {},
   "source": [
    "Steps for the One-Sample t-test:\n",
    "\n",
    "Formulate the Hypotheses:\n",
    "Null Hypothesis (H₀): μ=10\n",
    "Alternative Hypothesis (H₁): μ<10\n",
    "\n",
    "Calculate the t-statistic:\n",
    "\n",
    "Determine the degrees of freedom:\n",
    "Degrees of freedom (df) = n−1=100−1=99.\n",
    "\n",
    "Calculate the p-value:\n",
    "Using the t-distribution wit\n",
    "df=99, find the p-value corresponding to the calculated t-statistic (-6.67) and a one-tailed test (since H₁ is less than).\n",
    "The p-value represents the probability of obtaining a t-statistic as extreme as or more extreme than the observed value, assuming the null hypothesis is true.\n",
    "\n",
    "Compare the p-value with the significance level:\n",
    "If the p-value is less than α (0.05), reject the null hypothesis. This indicates that there is sufficient evidence to conclude that the new drug decreases blood pressure by less than 10 mmHg.\n",
    "If the p-value is greater than or equal to α, fail to reject the null hypothesis. This suggests that there is not enough evidence to conclude that the new drug decreases blood pressure by less than 10 mmHg.\n",
    "\n",
    "Calculation of p-value:\n",
    "Using statistical software or a t-distribution table, the p-value corresponding to t=−6.67 and df=99 is extremely small, much less than 0.05.\n",
    "\n",
    "Conclusion:\n",
    "Since the p-value is much smaller than 0.05, we reject the null hypothesis. Therefore, based on the sample data, there is strong evidence to suggest that the new drug decreases blood pressure by less than 10 mmHg. This supports the researcher's alternative hypothesis that the mean decrease in blood pressure is less than 10 mmHg."
   ]
  },
  {
   "cell_type": "raw",
   "id": "0dcf4c6f-38a9-4972-b1cc-096dc4b624c5",
   "metadata": {},
   "source": []
  },
  {
   "cell_type": "raw",
   "id": "e13d7b2f-a3e4-4e12-8bd8-9ab58a611785",
   "metadata": {},
   "source": [
    "Ques.15  An electronics company produces a certain type of product with a mean weight of 5 pounds and a standard deviation of 0.5 pounds. A random sample of 25 products is taken, and the sample mean                weight is found to be 4.8 pounds. Test the hypothesis that the true mean weight of the products is less than 5 pounds with a significance level of 0.01"
   ]
  },
  {
   "cell_type": "raw",
   "id": "6e468d5c-6a66-4b40-bfc8-773a928055ea",
   "metadata": {},
   "source": [
    "Steps for the One-Sample t-test:\n",
    "\n",
    "Formulate the Hypotheses:\n",
    "Null Hypothesis (H₀): μ≥5\n",
    "Alternative Hypothesis (H₁): μ<5\n",
    "\n",
    "Calculate the t-statistics:\n",
    "\n",
    "Determine the degrees of freedom:\n",
    "Degrees of freedom (df) = n−1=25−1=24.\n",
    "\n",
    "Calculate the p-value:\n",
    "Using the t-distribution with df=24, find the p-value corresponding to the calculated t-statistic (-2) and a one-tailed test (since H₁ is less than).\n",
    "The p-value represents the probability of obtaining a t-statistic as extreme as or more extreme than the observed value, assuming the null hypothesis is true.\n",
    "\n",
    "Compare the p-value with the significance level:\n",
    "If the p-value is less than α (0.01), reject the null hypothesis. This indicates that there is sufficient evidence to conclude that the true mean weight of the products is less than 5 pounds.\n",
    "If the p-value is greater than or equal to 𝛼, fail to reject the null hypothesis. This suggests that there is not enough evidence to conclude that the true mean weight of the products is less than 5 pounds.\n",
    "\n",
    "Calculation of p-value:\n",
    "Using statistical software or a t-distribution table, the p-value corresponding to t=−2 and df=24 is approximately 0.025.\n",
    "\n",
    "Conclusion:\n",
    "Since the p-value (0.025) is less than the significance level (0.01), we reject the null hypothesis. Therefore, based on the sample data, there is sufficient evidence to suggest that the true mean weight of the products produced by the electronics company is less than 5 pounds. This supports the alternative hypothesis that the mean weight is less than 5 pounds."
   ]
  },
  {
   "cell_type": "raw",
   "id": "903f7f95-2ad3-4c64-a7ee-97d705948d9b",
   "metadata": {},
   "source": []
  },
  {
   "cell_type": "raw",
   "id": "b372e8f8-b424-4084-9358-28ac07536c7f",
   "metadata": {},
   "source": [
    "Ques.16 Two groups of students are given different study materials to prepare for a test. The first group (n1 = 30) has a mean score of 80 with a standard deviation of 10, and the second group (n2 = 40)           has a mean score of 75 with a standard deviation of 8. Test the hypothesis that the population means for the two groups are equal with a significance level of 0.01"
   ]
  },
  {
   "cell_type": "raw",
   "id": "ec9ef816-bfe2-409e-bd9d-b75a4532eaa5",
   "metadata": {},
   "source": [
    "Steps for the Two-Sample t-test:\n",
    "\n",
    "Formulate the Hypotheses:\n",
    "\n",
    "Null Hypothesis (H₀): 𝜇1=𝜇2\n",
    "(Population means for Group 1 and Group 2 are equal)\n",
    "Alternative Hypothesis (H₁): 𝜇1≠𝜇2\n",
    "(Population means for Group 1 and Group 2 are not equal)\n",
    "\n",
    "Calculate the pooled standard deviation: sp​≈8.91\n",
    "\n",
    "Calculate the t-statistic: t≈2.33\n",
    "\n",
    "Determine the degrees of freedom (df): df≈56 (rounded to nearest whole number)\n",
    "\n",
    "Calculate the p-value:\n",
    "\n",
    "Using statistical software or a t-distribution table, find the p-value corresponding to the calculated t-statistic (2.33) and degrees of freedom (56) for a two-tailed test.\n",
    "Compare the p-value with the significance level:\n",
    "\n",
    "If the p-value is less than α (0.01), reject the null hypothesis. This indicates that there is sufficient evidence to conclude that the population means for the two groups are not equal.\n",
    "If the p-value is greater than or equal to α, fail to reject the null hypothesis. This suggests that there is not enough evidence to conclude that the population means for the two groups are different.\n",
    "\n",
    "Conclusion:\n",
    "Since the t-statistic (2.33) exceeds the critical value for a two-tailed test at 𝛼=0.01 and the corresponding p-value is less than 0.01, we reject the null hypothesis. Therefore, based on the sample data, there is sufficient evidence to suggest that the population means for the two groups (students with different study materials) are not equal."
   ]
  },
  {
   "cell_type": "raw",
   "id": "d330969f-fc8e-4aa2-a488-4642111a36a1",
   "metadata": {},
   "source": []
  },
  {
   "cell_type": "raw",
   "id": "933f0375-45fa-4a27-9390-f0c0bea0ca3d",
   "metadata": {},
   "source": [
    "Ques.17  A marketing company wants to estimate the average number of ads watched by viewers during a TV program. They take a random sample of 50 viewers and find that the sample mean is 4 with a standard \n",
    "         deviation of 1.5. Estimate the population mean with a 99% confidence interval."
   ]
  },
  {
   "cell_type": "raw",
   "id": "e4426f75-7a23-4833-a3d9-dd54ddcb8f1d",
   "metadata": {},
   "source": [
    "Steps to Calculate the Confidence Interval:\n",
    "\n",
    "Find the critical value (z-score):\n",
    "Since the sample size is large (n ≥ 30), we can use the standard normal distribution (z-distribution) for the critical value at a 99% confidence level.\n",
    "The critical value (z*) corresponding to a 99% confidence level is approximately 2.576. This value is obtained from standard normal distribution tables or using statistical software.\n",
    "\n",
    "Calculate the margin of error: Margin of Error≈0.544\n",
    "\n",
    "Calculate the confidence interval: Confidence Interval=(3.456,4.544)\n",
    "\n",
    "Interpretation:\n",
    "The 99% confidence interval suggests that we are 99% confident that the true population mean number of ads watched by viewers during the TV program falls between approximately 3.456 and 4.544 ads, based on the sample data provided.\n",
    "This interval provides a range within which we can reasonably estimate the average number of ads watched per viewer during the TV program, considering the variability in the number of ads watched observed in the sample."
   ]
  },
  {
   "cell_type": "code",
   "execution_count": null,
   "id": "838a1fed-4ddb-4c85-a015-4dde6656b724",
   "metadata": {},
   "outputs": [],
   "source": []
  }
 ],
 "metadata": {
  "kernelspec": {
   "display_name": "Python 3 (ipykernel)",
   "language": "python",
   "name": "python3"
  },
  "language_info": {
   "codemirror_mode": {
    "name": "ipython",
    "version": 3
   },
   "file_extension": ".py",
   "mimetype": "text/x-python",
   "name": "python",
   "nbconvert_exporter": "python",
   "pygments_lexer": "ipython3",
   "version": "3.10.8"
  }
 },
 "nbformat": 4,
 "nbformat_minor": 5
}
